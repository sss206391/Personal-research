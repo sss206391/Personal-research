{
 "cells": [
  {
   "cell_type": "code",
   "execution_count": 1,
   "id": "d63a253f",
   "metadata": {},
   "outputs": [],
   "source": [
    "import sys\n",
    "sys.path.append('..')"
   ]
  },
  {
   "cell_type": "code",
   "execution_count": 2,
   "id": "d616e73b",
   "metadata": {},
   "outputs": [
    {
     "name": "stdout",
     "output_type": "stream",
     "text": [
      "Available devices  4\n",
      "Current cuda device  0\n",
      "NVIDIA A100-PCIE-40GB\n"
     ]
    }
   ],
   "source": [
    "import torch\n",
    "\n",
    "device = torch.device('cuda' if torch.cuda.is_available() else 'cpu')\n",
    "print ('Available devices ', torch.cuda.device_count())\n",
    "print ('Current cuda device ', torch.cuda.current_device())\n",
    "print(torch.cuda.get_device_name(device))"
   ]
  },
  {
   "cell_type": "code",
   "execution_count": 3,
   "id": "9defb507",
   "metadata": {},
   "outputs": [
    {
     "name": "stdout",
     "output_type": "stream",
     "text": [
      "Fri Dec 29 13:54:28 2023       \n",
      "+-----------------------------------------------------------------------------+\n",
      "| NVIDIA-SMI 470.223.02   Driver Version: 470.223.02   CUDA Version: 11.4     |\n",
      "|-------------------------------+----------------------+----------------------+\n",
      "| GPU  Name        Persistence-M| Bus-Id        Disp.A | Volatile Uncorr. ECC |\n",
      "| Fan  Temp  Perf  Pwr:Usage/Cap|         Memory-Usage | GPU-Util  Compute M. |\n",
      "|                               |                      |               MIG M. |\n",
      "|===============================+======================+======================|\n",
      "|   0  NVIDIA A100-PCI...  Off  | 00000000:01:00.0 Off |                    0 |\n",
      "| N/A   39C    P0    38W / 250W |  38629MiB / 40536MiB |      0%      Default |\n",
      "|                               |                      |             Disabled |\n",
      "+-------------------------------+----------------------+----------------------+\n",
      "|   1  NVIDIA A100-PCI...  Off  | 00000000:24:00.0 Off |                    0 |\n",
      "| N/A   39C    P0    37W / 250W |   4533MiB / 40536MiB |      0%      Default |\n",
      "|                               |                      |             Disabled |\n",
      "+-------------------------------+----------------------+----------------------+\n",
      "|   2  NVIDIA A100-PCI...  Off  | 00000000:C1:00.0 Off |                    0 |\n",
      "| N/A   36C    P0    36W / 250W |      3MiB / 40536MiB |      0%      Default |\n",
      "|                               |                      |             Disabled |\n",
      "+-------------------------------+----------------------+----------------------+\n",
      "|   3  NVIDIA A100-PCI...  Off  | 00000000:E1:00.0 Off |                   23 |\n",
      "| N/A   35C    P0    35W / 250W |      3MiB / 40536MiB |      0%      Default |\n",
      "|                               |                      |             Disabled |\n",
      "+-------------------------------+----------------------+----------------------+\n",
      "                                                                               \n",
      "+-----------------------------------------------------------------------------+\n",
      "| Processes:                                                                  |\n",
      "|  GPU   GI   CI        PID   Type   Process name                  GPU Memory |\n",
      "|        ID   ID                                                   Usage      |\n",
      "|=============================================================================|\n",
      "|    0   N/A  N/A    438084      C   ...3/envs/TCRBert/bin/python     2481MiB |\n",
      "|    0   N/A  N/A   1299368      C   ...3/envs/TCRBert/bin/python    24245MiB |\n",
      "|    0   N/A  N/A   1767219      C   ...3/envs/TCRBert/bin/python     2481MiB |\n",
      "|    0   N/A  N/A   1997401      C   ...3/envs/TCRBert/bin/python     2481MiB |\n",
      "|    0   N/A  N/A   2032367      C   ...vs/yunjumulti2/bin/python     1907MiB |\n",
      "|    0   N/A  N/A   2032596      C   ...vs/yunjumulti2/bin/python     1633MiB |\n",
      "|    0   N/A  N/A   2032711      C   ...vs/yunjumulti2/bin/python     1585MiB |\n",
      "|    0   N/A  N/A   2032824      C   ...vs/yunjumulti2/bin/python     1811MiB |\n",
      "|    1   N/A  N/A   2049468      C   ...3/envs/dohyeon/bin/python     3665MiB |\n",
      "|    1   N/A  N/A   2049475      C   ...3/envs/dohyeon/bin/python      865MiB |\n",
      "+-----------------------------------------------------------------------------+\n"
     ]
    }
   ],
   "source": [
    "! nvidia-smi"
   ]
  },
  {
   "cell_type": "code",
   "execution_count": 4,
   "id": "52a36039",
   "metadata": {},
   "outputs": [
    {
     "name": "stdout",
     "output_type": "stream",
     "text": [
      "Current cuda device  3\n",
      "NVIDIA A100-PCIE-40GB\n",
      "Memory Usage:\n",
      "Allocated: 0.0 GB\n",
      "Cached:    0.0 GB\n",
      "Current cuda device  3\n"
     ]
    },
    {
     "name": "stderr",
     "output_type": "stream",
     "text": [
      "/data/home/bmi-lab/anaconda3/envs/jy1/lib/python3.7/site-packages/torch/cuda/memory.py:393: FutureWarning: torch.cuda.memory_cached has been renamed to torch.cuda.memory_reserved\n",
      "  FutureWarning)\n"
     ]
    }
   ],
   "source": [
    "GPU_NUM = 3 # 원하는 GPU 번호 입력\n",
    "device = torch.device(f'cuda:{GPU_NUM}' if torch.cuda.is_available() else 'cpu')\n",
    "torch.cuda.set_device(device) # change allocation of current GPU\n",
    "print ('Current cuda device ', torch.cuda.current_device()) # check\n",
    "\n",
    "# Additional Infos\n",
    "if device.type == 'cuda':\n",
    "    print(torch.cuda.get_device_name(GPU_NUM))\n",
    "    print('Memory Usage:')\n",
    "    print('Allocated:', round(torch.cuda.memory_allocated(GPU_NUM)/1024**3,1), 'GB')\n",
    "    print('Cached:   ', round(torch.cuda.memory_cached(GPU_NUM)/1024**3,1), 'GB')\n",
    "    \n",
    "print ('Current cuda device ', torch.cuda.current_device())"
   ]
  },
  {
   "cell_type": "code",
   "execution_count": 5,
   "id": "f2a37733",
   "metadata": {},
   "outputs": [
    {
     "name": "stdout",
     "output_type": "stream",
     "text": [
      "Current cuda device  3\n"
     ]
    }
   ],
   "source": [
    "print ('Current cuda device ', torch.cuda.current_device())"
   ]
  },
  {
   "cell_type": "markdown",
   "id": "618a33fc",
   "metadata": {},
   "source": [
    "global_settings"
   ]
  },
  {
   "cell_type": "code",
   "execution_count": 6,
   "id": "cba1bdf4",
   "metadata": {},
   "outputs": [],
   "source": [
    "from logics_pack_original import global_settings, chemistry, predictor\n",
    "import pandas as pd\n",
    "import numpy as np\n",
    "import json\n",
    "import pickle\n",
    "from sklearn.ensemble import RandomForestRegressor\n",
    "from sklearn.metrics import mean_squared_error, r2_score"
   ]
  },
  {
   "cell_type": "code",
   "execution_count": 11,
   "id": "a80fce64",
   "metadata": {},
   "outputs": [],
   "source": [
    "TEST_FOLD_IDX = 5\n",
    "\n",
    "KOR_ACT_THRS = 7.0  # threshold for being KOR active\n",
    "PIK3CA_ACT_THRS = 8.0  # threshold for being PIK3CA active\n",
    "\n",
    "logics_paths = {\n",
    "    \"EXPERIMENT_SETTINGS_JSON\": \"logics_pack/experiment_settings.json\",\n",
    "    ### following files will be generated through notes in pre-training phase\n",
    "    ## initial data\n",
    "    \"PIK3CA_DATA_PATH\": \"data/pik3ca/pik3ca_affinity_new.csv\",\n",
    "    \"PIK3CA_FOLD_JSON\": \"data/pik3ca/pik3ca_fold_splits.json\",\n",
    "    \"PIK3CA_DATA_FP\": \"data/pik3ca/pik3ca_aff_npfps.npy\",\n",
    "}\n",
    "project_dir='../'\n",
    "for key,path in logics_paths.items():\n",
    "    logics_paths[key] = project_dir + path\n",
    "logics_paths[\"PROJECT_DIR\"] = project_dir"
   ]
  },
  {
   "cell_type": "code",
   "execution_count": 12,
   "id": "4d1356f4",
   "metadata": {},
   "outputs": [],
   "source": [
    "expset_obj = global_settings.ExperimentSettings(logics_paths['EXPERIMENT_SETTINGS_JSON'])"
   ]
  },
  {
   "cell_type": "markdown",
   "id": "e71b2870",
   "metadata": {},
   "source": [
    "Training PIK3CA activity predictor (Random Forest Regressor)"
   ]
  },
  {
   "cell_type": "code",
   "execution_count": null,
   "id": "0256e4fc",
   "metadata": {},
   "outputs": [
    {
     "name": "stdout",
     "output_type": "stream",
     "text": [
      "['0', '1', '2', '3', '4']\n"
     ]
    }
   ],
   "source": [
    "affinity_df = pd.read_csv(logics_paths['PIK3CA_DATA_PATH'])\n",
    "pred_labels = np.array(affinity_df['affinity'])\n",
    "fp_features = np.load(logics_paths['PIK3CA_DATA_FP'])\n",
    "\n",
    "with open(logics_paths['PIK3CA_FOLD_JSON'], 'r') as f:\n",
    "    fold_split = json.load(f)\n",
    "\n",
    "test_fold_id=str(TEST_FOLD_IDX)\n",
    "tf_ids = np.array(fold_split[test_fold_id]) # test fold data indices\n",
    "\n",
    "vf_keys = list(fold_split.keys())\n",
    "vf_keys.remove(test_fold_id)\n",
    "print(vf_keys)\n",
    "\n",
    "rfr_fold = []\n",
    "vmse = [] # validation mse\n",
    "vr2 = [] # validation r2\n",
    "for i, key in enumerate(vf_keys):\n",
    "    # i-th fold is used as a validation set.\n",
    "    vf_ids = np.array(fold_split[key]) # validation fold\n",
    "    v_labels = pred_labels[vf_ids]\n",
    "    v_features = fp_features[vf_ids]\n",
    "\n",
    "    nt_ids = np.append(tf_ids, vf_ids) # non-training indices\n",
    "    tr_labels = np.delete(pred_labels.copy(), nt_ids, axis=0)\n",
    "    tr_features = np.delete(fp_features.copy(), nt_ids, axis=0)\n",
    "\n",
    "    # train RFR in a default setup\n",
    "    rfr = RandomForestRegressor(n_estimators=100) # n_estimators=100 is default for sklearn version>=0.22\n",
    "    rfr.fit(tr_features, tr_labels)\n",
    "    rfr_fold.append(rfr)\n",
    "\n",
    "    # validation performance\n",
    "    v_preds = rfr.predict(v_features)\n",
    "    vmse.append(mean_squared_error(v_labels, v_preds))\n",
    "    vr2.append(r2_score(v_labels, v_preds))"
   ]
  },
  {
   "cell_type": "code",
   "execution_count": null,
   "id": "a9b5a925",
   "metadata": {},
   "outputs": [],
   "source": [
    "# RFR regressor training\n",
    "rfr_cvs=rfr_fold\n",
    "cv_fold_keys=vf_keys"
   ]
  },
  {
   "cell_type": "code",
   "execution_count": null,
   "id": "e0af6b78",
   "metadata": {},
   "outputs": [],
   "source": [
    "# save the result\n",
    "cv_folds = [int(key) for key in cv_fold_keys]\n",
    "pred_result = pd.DataFrame(cv_folds, columns=['cv_fold'])\n",
    "pred_result['vmse'] = vmse\n",
    "pred_result['vr2'] = vr2\n",
    "pred_result.to_csv(logics_paths['PROJECT_DIR'] + \"model-pretrain/predictor_pik3ca_rfr_cv_results.csv\", index=False)"
   ]
  },
  {
   "cell_type": "code",
   "execution_count": null,
   "id": "4cbe3c8a",
   "metadata": {},
   "outputs": [],
   "source": [
    "# find the best performing cv fold by validation R2\n",
    "best_cv_idx = pred_result['vr2'].idxmax()\n",
    "best_cv = pred_result['cv_fold'].iloc[best_cv_idx]\n",
    "# add best cv info to the experiment setting json file, and overwrite it\n",
    "expset_obj.update_setting(\"pik3ca-pred-best-cv\", best_cv)\n",
    "print(\"best CV fold of PIK3CA predictor: \", best_cv)"
   ]
  },
  {
   "cell_type": "code",
   "execution_count": null,
   "id": "3f407dee",
   "metadata": {},
   "outputs": [],
   "source": [
    "# save the models\n",
    "for i, cv_idx in enumerate(cv_folds):\n",
    "    with open(logics_paths['PROJECT_DIR'] + \"model-pretrain/predictor_pik3ca_rfr_cv%d.pkl\"%cv_idx, 'wb') as f:\n",
    "        pickle.dump(rfr_cvs[i], f)"
   ]
  }
 ],
 "metadata": {
  "kernelspec": {
   "display_name": "jy1",
   "language": "python",
   "name": "jy1"
  },
  "language_info": {
   "codemirror_mode": {
    "name": "ipython",
    "version": 3
   },
   "file_extension": ".py",
   "mimetype": "text/x-python",
   "name": "python",
   "nbconvert_exporter": "python",
   "pygments_lexer": "ipython3",
   "version": "3.7.16"
  }
 },
 "nbformat": 4,
 "nbformat_minor": 5
}
