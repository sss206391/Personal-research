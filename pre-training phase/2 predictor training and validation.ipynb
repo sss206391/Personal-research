{
 "cells": [
  {
   "cell_type": "code",
   "execution_count": 1,
   "id": "d63a253f",
   "metadata": {},
   "outputs": [],
   "source": [
    "import sys\n",
    "sys.path.append('..')"
   ]
  },
  {
   "cell_type": "code",
   "execution_count": 2,
   "id": "d616e73b",
   "metadata": {},
   "outputs": [
    {
     "name": "stderr",
     "output_type": "stream",
     "text": [
      "2023-11-20 11:29:03.765796: I tensorflow/core/platform/cpu_feature_guard.cc:142] Your CPU supports instructions that this TensorFlow binary was not compiled to use: AVX2 FMA\n",
      "2023-11-20 11:29:03.818652: I tensorflow/core/platform/profile_utils/cpu_utils.cc:94] CPU Frequency: 2000035000 Hz\n",
      "2023-11-20 11:29:03.843511: I tensorflow/compiler/xla/service/service.cc:168] XLA service 0x573c490 initialized for platform Host (this does not guarantee that XLA will be used). Devices:\n",
      "2023-11-20 11:29:03.843588: I tensorflow/compiler/xla/service/service.cc:176]   StreamExecutor device (0): Host, Default Version\n",
      "2023-11-20 11:29:03.847046: I tensorflow/stream_executor/platform/default/dso_loader.cc:44] Successfully opened dynamic library libcuda.so.1\n"
     ]
    },
    {
     "name": "stdout",
     "output_type": "stream",
     "text": [
      "[name: \"/device:CPU:0\"\n",
      "device_type: \"CPU\"\n",
      "memory_limit: 268435456\n",
      "locality {\n",
      "}\n",
      "incarnation: 2553766179745778765\n",
      ", name: \"/device:XLA_CPU:0\"\n",
      "device_type: \"XLA_CPU\"\n",
      "memory_limit: 17179869184\n",
      "locality {\n",
      "}\n",
      "incarnation: 10810614767941595185\n",
      "physical_device_desc: \"device: XLA_CPU device\"\n",
      ", name: \"/device:XLA_GPU:0\"\n",
      "device_type: \"XLA_GPU\"\n",
      "memory_limit: 17179869184\n",
      "locality {\n",
      "}\n",
      "incarnation: 11534314315933097183\n",
      "physical_device_desc: \"device: XLA_GPU device\"\n",
      ", name: \"/device:XLA_GPU:1\"\n",
      "device_type: \"XLA_GPU\"\n",
      "memory_limit: 17179869184\n",
      "locality {\n",
      "}\n",
      "incarnation: 14988012603180566842\n",
      "physical_device_desc: \"device: XLA_GPU device\"\n",
      ", name: \"/device:XLA_GPU:2\"\n",
      "device_type: \"XLA_GPU\"\n",
      "memory_limit: 17179869184\n",
      "locality {\n",
      "}\n",
      "incarnation: 16129115834606770706\n",
      "physical_device_desc: \"device: XLA_GPU device\"\n",
      ", name: \"/device:XLA_GPU:3\"\n",
      "device_type: \"XLA_GPU\"\n",
      "memory_limit: 17179869184\n",
      "locality {\n",
      "}\n",
      "incarnation: 15107554204015256289\n",
      "physical_device_desc: \"device: XLA_GPU device\"\n",
      "]\n"
     ]
    },
    {
     "name": "stderr",
     "output_type": "stream",
     "text": [
      "2023-11-20 11:29:04.383220: I tensorflow/compiler/xla/service/service.cc:168] XLA service 0x57b7360 initialized for platform CUDA (this does not guarantee that XLA will be used). Devices:\n",
      "2023-11-20 11:29:04.383286: I tensorflow/compiler/xla/service/service.cc:176]   StreamExecutor device (0): NVIDIA A100-PCIE-40GB, Compute Capability 8.0\n",
      "2023-11-20 11:29:04.383290: I tensorflow/compiler/xla/service/service.cc:176]   StreamExecutor device (1): NVIDIA A100-PCIE-40GB, Compute Capability 8.0\n",
      "2023-11-20 11:29:04.383294: I tensorflow/compiler/xla/service/service.cc:176]   StreamExecutor device (2): NVIDIA A100-PCIE-40GB, Compute Capability 8.0\n",
      "2023-11-20 11:29:04.383298: I tensorflow/compiler/xla/service/service.cc:176]   StreamExecutor device (3): NVIDIA A100-PCIE-40GB, Compute Capability 8.0\n",
      "2023-11-20 11:29:04.394581: I tensorflow/core/common_runtime/gpu/gpu_device.cc:1618] Found device 0 with properties: \n",
      "name: NVIDIA A100-PCIE-40GB major: 8 minor: 0 memoryClockRate(GHz): 1.41\n",
      "pciBusID: 0000:01:00.0\n",
      "2023-11-20 11:29:04.396206: I tensorflow/core/common_runtime/gpu/gpu_device.cc:1618] Found device 1 with properties: \n",
      "name: NVIDIA A100-PCIE-40GB major: 8 minor: 0 memoryClockRate(GHz): 1.41\n",
      "pciBusID: 0000:24:00.0\n",
      "2023-11-20 11:29:04.397784: I tensorflow/core/common_runtime/gpu/gpu_device.cc:1618] Found device 2 with properties: \n",
      "name: NVIDIA A100-PCIE-40GB major: 8 minor: 0 memoryClockRate(GHz): 1.41\n",
      "pciBusID: 0000:c1:00.0\n",
      "2023-11-20 11:29:04.399382: I tensorflow/core/common_runtime/gpu/gpu_device.cc:1618] Found device 3 with properties: \n",
      "name: NVIDIA A100-PCIE-40GB major: 8 minor: 0 memoryClockRate(GHz): 1.41\n",
      "pciBusID: 0000:e1:00.0\n",
      "2023-11-20 11:29:04.399537: W tensorflow/stream_executor/platform/default/dso_loader.cc:55] Could not load dynamic library 'libcudart.so.10.0'; dlerror: libcudart.so.10.0: cannot open shared object file: No such file or directory\n",
      "2023-11-20 11:29:04.399584: W tensorflow/stream_executor/platform/default/dso_loader.cc:55] Could not load dynamic library 'libcublas.so.10.0'; dlerror: libcublas.so.10.0: cannot open shared object file: No such file or directory\n",
      "2023-11-20 11:29:04.399625: W tensorflow/stream_executor/platform/default/dso_loader.cc:55] Could not load dynamic library 'libcufft.so.10.0'; dlerror: libcufft.so.10.0: cannot open shared object file: No such file or directory\n",
      "2023-11-20 11:29:04.399667: W tensorflow/stream_executor/platform/default/dso_loader.cc:55] Could not load dynamic library 'libcurand.so.10.0'; dlerror: libcurand.so.10.0: cannot open shared object file: No such file or directory\n",
      "2023-11-20 11:29:04.399712: W tensorflow/stream_executor/platform/default/dso_loader.cc:55] Could not load dynamic library 'libcusolver.so.10.0'; dlerror: libcusolver.so.10.0: cannot open shared object file: No such file or directory\n",
      "2023-11-20 11:29:04.399752: W tensorflow/stream_executor/platform/default/dso_loader.cc:55] Could not load dynamic library 'libcusparse.so.10.0'; dlerror: libcusparse.so.10.0: cannot open shared object file: No such file or directory\n",
      "2023-11-20 11:29:04.399792: W tensorflow/stream_executor/platform/default/dso_loader.cc:55] Could not load dynamic library 'libcudnn.so.7'; dlerror: libcudnn.so.7: cannot open shared object file: No such file or directory\n",
      "2023-11-20 11:29:04.399798: W tensorflow/core/common_runtime/gpu/gpu_device.cc:1641] Cannot dlopen some GPU libraries. Please make sure the missing libraries mentioned above are installed properly if you would like to use GPU. Follow the guide at https://www.tensorflow.org/install/gpu for how to download and setup the required libraries for your platform.\n",
      "Skipping registering GPU devices...\n",
      "2023-11-20 11:29:04.399819: I tensorflow/core/common_runtime/gpu/gpu_device.cc:1159] Device interconnect StreamExecutor with strength 1 edge matrix:\n",
      "2023-11-20 11:29:04.399826: I tensorflow/core/common_runtime/gpu/gpu_device.cc:1165]      0 1 2 3 \n",
      "2023-11-20 11:29:04.399830: I tensorflow/core/common_runtime/gpu/gpu_device.cc:1178] 0:   N Y Y Y \n",
      "2023-11-20 11:29:04.399834: I tensorflow/core/common_runtime/gpu/gpu_device.cc:1178] 1:   Y N Y Y \n",
      "2023-11-20 11:29:04.399837: I tensorflow/core/common_runtime/gpu/gpu_device.cc:1178] 2:   Y Y N Y \n",
      "2023-11-20 11:29:04.399841: I tensorflow/core/common_runtime/gpu/gpu_device.cc:1178] 3:   Y Y Y N \n"
     ]
    }
   ],
   "source": [
    "import tensorflow as tf \n",
    "from tensorflow.python.client import device_lib\n",
    "\n",
    "print(device_lib.list_local_devices() )"
   ]
  },
  {
   "cell_type": "code",
   "execution_count": 3,
   "id": "9defb507",
   "metadata": {},
   "outputs": [
    {
     "name": "stdout",
     "output_type": "stream",
     "text": [
      "Failed to initialize NVML: Driver/library version mismatch\r\n"
     ]
    }
   ],
   "source": [
    "! nvidia-smi"
   ]
  },
  {
   "cell_type": "markdown",
   "id": "594c749d",
   "metadata": {},
   "source": [
    "from logics_pack import global_settings, chemistry, predictor\n",
    "import pandas as pd\n",
    "import numpy as np\n",
    "import json\n",
    "import pickle\n",
    "\n",
    "project_paths = global_settings.build_project_paths(project_dir='../')\n",
    "expset_obj = global_settings.ExperimentSettings(project_paths['EXPERIMENT_SETTINGS_JSON'])"
   ]
  },
  {
   "cell_type": "markdown",
   "id": "4bf3b166",
   "metadata": {},
   "source": [
    "Training KOR activity predictor (Random Forest Regressor)"
   ]
  },
  {
   "cell_type": "code",
   "execution_count": 3,
   "id": "6732bbd0",
   "metadata": {},
   "outputs": [],
   "source": [
    "conf_k = global_settings.Object()\n",
    "conf_k.affinity_path = project_paths['KOR_DATA_PATH']\n",
    "conf_k.fold_path = project_paths['KOR_FOLD_JSON']\n",
    "conf_k.fingerprint_path = project_paths['KOR_DATA_FP']\n",
    "conf_k.test_fold_id = str(global_settings.TEST_FOLD_IDX)    # string type is required for train_predictor()\n",
    "\n",
    "conf_k.predictor_model_fmt = project_paths['PROJECT_DIR'] + \"model-kor/predictor/kor_rfr_cv%d.pkl\"\n",
    "conf_k.result_table_path = project_paths['PROJECT_DIR'] + \"model-kor/predictor/kor_rfr_cv_results.csv\""
   ]
  },
  {
   "cell_type": "code",
   "execution_count": 4,
   "id": "97c9835f",
   "metadata": {},
   "outputs": [
    {
     "name": "stdout",
     "output_type": "stream",
     "text": [
      "['0', '1', '2', '3', '4']\n"
     ]
    }
   ],
   "source": [
    "# RFR regressor training\n",
    "rfr_cvs, vmse, vr2, cv_fold_keys = predictor.train_predictor(conf_k)"
   ]
  },
  {
   "cell_type": "code",
   "execution_count": 5,
   "id": "9dc57331",
   "metadata": {},
   "outputs": [],
   "source": [
    "# save the result\n",
    "cv_folds = [int(key) for key in cv_fold_keys]\n",
    "pred_result = pd.DataFrame(cv_folds, columns=['cv_fold'])\n",
    "pred_result['vmse'] = vmse\n",
    "pred_result['vr2'] = vr2\n",
    "pred_result.to_csv(conf_k.result_table_path, index=False)"
   ]
  },
  {
   "cell_type": "code",
   "execution_count": 7,
   "id": "960a31f2",
   "metadata": {},
   "outputs": [
    {
     "name": "stdout",
     "output_type": "stream",
     "text": [
      "best CV fold of KOR predictor:  3\n"
     ]
    }
   ],
   "source": [
    "# find the best performing cv fold by validation R2\n",
    "best_cv_idx = pred_result['vr2'].idxmax()\n",
    "best_cv = pred_result['cv_fold'].iloc[best_cv_idx]\n",
    "# add best cv info to the experiment setting json file, and overwrite it\n",
    "expset_obj.update_setting(\"kor-pred-best-cv\", best_cv)\n",
    "print(\"best CV fold of KOR predictor: \", best_cv)"
   ]
  },
  {
   "cell_type": "code",
   "execution_count": 13,
   "id": "27028a07",
   "metadata": {},
   "outputs": [],
   "source": [
    "# save the models\n",
    "for i, cv_idx in enumerate(cv_folds):\n",
    "    with open(conf_k.predictor_model_fmt%cv_idx, 'wb') as f:\n",
    "        pickle.dump(rfr_cvs[i], f)"
   ]
  },
  {
   "cell_type": "markdown",
   "id": "e71b2870",
   "metadata": {},
   "source": [
    "Training PIK3CA activity predictor (Random Forest Regressor)"
   ]
  },
  {
   "cell_type": "code",
   "execution_count": 18,
   "id": "0256e4fc",
   "metadata": {},
   "outputs": [],
   "source": [
    "conf_p = global_settings.Object()\n",
    "conf_p.affinity_path = project_paths['PIK3CA_DATA_PATH']\n",
    "conf_p.fold_path = project_paths['PIK3CA_FOLD_JSON']\n",
    "conf_p.fingerprint_path = project_paths['PIK3CA_DATA_FP']\n",
    "conf_p.test_fold_id = str(global_settings.TEST_FOLD_IDX)    # string type is required for train_predictor()\n",
    "\n",
    "conf_p.predictor_model_fmt = project_paths['PROJECT_DIR'] + \"model-pik3ca/predictor/pik3ca_rfr_cv%d.pkl\"\n",
    "conf_p.result_table_path = project_paths['PROJECT_DIR'] + \"model-pik3ca/predictor/pik3ca_rfr_cv_results.csv\""
   ]
  },
  {
   "cell_type": "code",
   "execution_count": 19,
   "id": "a9b5a925",
   "metadata": {},
   "outputs": [
    {
     "name": "stdout",
     "output_type": "stream",
     "text": [
      "['0', '1', '2', '3', '4']\n"
     ]
    }
   ],
   "source": [
    "# RFR regressor training\n",
    "rfr_cvs, vmse, vr2, cv_fold_keys = predictor.train_predictor(conf_p)"
   ]
  },
  {
   "cell_type": "code",
   "execution_count": 20,
   "id": "e0af6b78",
   "metadata": {},
   "outputs": [],
   "source": [
    "# save the result\n",
    "cv_folds = [int(key) for key in cv_fold_keys]\n",
    "pred_result = pd.DataFrame(cv_folds, columns=['cv_fold'])\n",
    "pred_result['vmse'] = vmse\n",
    "pred_result['vr2'] = vr2\n",
    "pred_result.to_csv(conf_p.result_table_path, index=False)"
   ]
  },
  {
   "cell_type": "code",
   "execution_count": 21,
   "id": "4cbe3c8a",
   "metadata": {},
   "outputs": [
    {
     "name": "stdout",
     "output_type": "stream",
     "text": [
      "best CV fold of PIK3CA predictor:  2\n"
     ]
    }
   ],
   "source": [
    "# find the best performing cv fold by validation R2\n",
    "best_cv_idx = pred_result['vr2'].idxmax()\n",
    "best_cv = pred_result['cv_fold'].iloc[best_cv_idx]\n",
    "# add best cv info to the experiment setting json file, and overwrite it\n",
    "expset_obj.update_setting(\"pik3ca-pred-best-cv\", best_cv)\n",
    "print(\"best CV fold of PIK3CA predictor: \", best_cv)"
   ]
  },
  {
   "cell_type": "code",
   "execution_count": 22,
   "id": "3f407dee",
   "metadata": {},
   "outputs": [],
   "source": [
    "# save the models\n",
    "for i, cv_idx in enumerate(cv_folds):\n",
    "    with open(conf_p.predictor_model_fmt%cv_idx, 'wb') as f:\n",
    "        pickle.dump(rfr_cvs[i], f)"
   ]
  },
  {
   "cell_type": "code",
   "execution_count": null,
   "id": "ba16840f",
   "metadata": {},
   "outputs": [],
   "source": []
  }
 ],
 "metadata": {
  "kernelspec": {
   "display_name": "jy1",
   "language": "python",
   "name": "jy1"
  },
  "language_info": {
   "codemirror_mode": {
    "name": "ipython",
    "version": 3
   },
   "file_extension": ".py",
   "mimetype": "text/x-python",
   "name": "python",
   "nbconvert_exporter": "python",
   "pygments_lexer": "ipython3",
   "version": "3.7.16"
  }
 },
 "nbformat": 4,
 "nbformat_minor": 5
}
